{
 "cells": [
  {
   "cell_type": "code",
   "execution_count": 25,
   "metadata": {
    "collapsed": false
   },
   "outputs": [],
   "source": [
    "import math\n",
    "\n",
    "class Vector(object):\n",
    "    def __init__(self, coordinates):\n",
    "        try:\n",
    "            if not coordinates:\n",
    "                raise ValueError\n",
    "            coordinates=[Decimal(str(x)) for x in coordinates]\n",
    "            self.coordinates = tuple(coordinates)\n",
    "            self.dimension = len(coordinates)\n",
    "\n",
    "        except ValueError:\n",
    "            raise ValueError('The coordinates must be nonempty')\n",
    "\n",
    "        except TypeError:\n",
    "            raise TypeError('The coordinates must be an iterable')\n",
    "\n",
    "\n",
    "    def __str__(self):\n",
    "        return 'Vector: {}'.format(self.coordinates)\n",
    "\n",
    "\n",
    "    def __eq__(self, v):\n",
    "        return all([abs(x[0]-x[1])<1e-10 for x in zip(self.coordinates,v.coordinates)])\n",
    "    \n",
    "    def __add__(self,v):\n",
    "        return Vector([x[0]+x[1] for x in zip(self.coordinates,v.coordinates)])\n",
    "        \n",
    "    def __sub__(self, v):\n",
    "        return Vector([x[0]-x[1] for x in zip(self.coordinates,v.coordinates)])\n",
    "        \n",
    "    def __mul__(self, v):\n",
    "        return Vector([x*Decimal(str(v)) for x in self.coordinates])\n",
    "    \n",
    "    def magnitude(self):\n",
    "        return Decimal(sum([x**2 for x in self.coordinates])**Decimal('0.5'))\n",
    "    \n",
    "    def direction(self):\n",
    "        return Vector([x*(Decimal('1.0')/self.magnitude()) for x in self.coordinates])\n",
    "\n",
    "    def projection(self,b):\n",
    "        return b.direction()*dot(self, b.direction()),self + b.direction()*dot(self, b.direction())*-1\n",
    "\n",
    "def dot(x,y):\n",
    "    return sum(x[0]*x[1] for x in zip(x.coordinates,y.coordinates))\n",
    "\n",
    "def angle(x,y):\n",
    "    return Decimal(math.acos(dot(x,y)/(x.magnitude()*y.magnitude())))\n",
    "\n",
    "def is_parallel(x,y):\n",
    "    return (abs(angle(x,y)*180/Decimal(math.pi))<1e-10) or (abs(angle(x,y)*180/Decimal(math.pi)-180)<1e-10)\n",
    "    \n",
    "def is_ortogonal(x,y):\n",
    "    return (abs(angle(x,y)*180/Decimal(math.pi)-90)<1e-10) or (abs(angle(x,y)*180/Decimal(math.pi)-270)<1e-10)\n",
    "\n",
    "def cross_product(x,y):\n",
    "    return Vector((x.coordinates[1]*y.coordinates[2]-y.coordinates[1]*x.coordinates[2],\\\n",
    "                   -(x.coordinates[0]*y.coordinates[2]-y.coordinates[0]*x.coordinates[2]),\n",
    "                   x.coordinates[0]*y.coordinates[1]-y.coordinates[0]*x.coordinates[1]))\n",
    "\n",
    "from decimal import Decimal, getcontext\n",
    "\n",
    "getcontext().prec = 30\n",
    "\n",
    "\n",
    "class Line(object):\n",
    "\n",
    "    NO_NONZERO_ELTS_FOUND_MSG = 'No nonzero elements found'\n",
    "\n",
    "    def __init__(self, normal_vector=None, constant_term=None):\n",
    "        self.dimension = 2\n",
    "\n",
    "        if not normal_vector:\n",
    "            all_zeros = ['0']*self.dimension\n",
    "            normal_vector = Vector(all_zeros)\n",
    "        self.normal_vector = normal_vector\n",
    "\n",
    "        if not constant_term:\n",
    "            constant_term = Decimal('0')\n",
    "        self.constant_term = Decimal(constant_term)\n",
    "\n",
    "        self.set_basepoint()\n",
    "\n",
    "\n",
    "    def set_basepoint(self):\n",
    "        try:\n",
    "            n = self.normal_vector\n",
    "            c = self.constant_term\n",
    "            basepoint_coords = ['0']*self.dimension\n",
    "\n",
    "            initial_index = Line.first_nonzero_index(n.coordinates)\n",
    "            initial_coefficient = n.coordinates[initial_index]\n",
    "\n",
    "            basepoint_coords[initial_index] = c/initial_coefficient\n",
    "            self.basepoint = Vector(basepoint_coords)\n",
    "\n",
    "        except Exception as e:\n",
    "            if str(e) == Line.NO_NONZERO_ELTS_FOUND_MSG:\n",
    "                self.basepoint = None\n",
    "            else:\n",
    "                raise e\n",
    "\n",
    "\n",
    "    def __str__(self):\n",
    "\n",
    "        num_decimal_places = 3\n",
    "\n",
    "        def write_coefficient(coefficient, is_initial_term=False):\n",
    "            coefficient = round(coefficient, num_decimal_places)\n",
    "            if coefficient % 1 == 0:\n",
    "                coefficient = int(coefficient)\n",
    "\n",
    "            output = ''\n",
    "\n",
    "            if coefficient < 0:\n",
    "                output += '-'\n",
    "            if coefficient > 0 and not is_initial_term:\n",
    "                output += '+'\n",
    "\n",
    "            if not is_initial_term:\n",
    "                output += ' '\n",
    "\n",
    "            if abs(coefficient) != 1:\n",
    "                output += '{}'.format(abs(coefficient))\n",
    "\n",
    "            return output\n",
    "\n",
    "        n = self.normal_vector\n",
    "\n",
    "        try:\n",
    "            initial_index = Line.first_nonzero_index(n.coordinates)\n",
    "            terms = [write_coefficient(n.coordinates[i], is_initial_term=(i==initial_index)) + 'x_{}'.format(i+1)\n",
    "                     for i in range(self.dimension) if round(n.coordinates[i], num_decimal_places) != 0]\n",
    "            output = ' '.join(terms)\n",
    "\n",
    "        except Exception as e:\n",
    "            if str(e) == self.NO_NONZERO_ELTS_FOUND_MSG:\n",
    "                output = '0'\n",
    "            else:\n",
    "                raise e\n",
    "\n",
    "        constant = round(self.constant_term, num_decimal_places)\n",
    "        if constant % 1 == 0:\n",
    "            constant = int(constant)\n",
    "        output += ' = {}'.format(constant)\n",
    "\n",
    "        return output\n",
    "\n",
    "\n",
    "    @staticmethod\n",
    "    def first_nonzero_index(iterable):\n",
    "        for k, item in enumerate(iterable):\n",
    "            if not MyDecimal(item).is_near_zero():\n",
    "                return k\n",
    "        raise Exception(Line.NO_NONZERO_ELTS_FOUND_MSG)\n",
    "\n",
    "class Plane(object):\n",
    "\n",
    "    NO_NONZERO_ELTS_FOUND_MSG = 'No nonzero elements found'\n",
    "\n",
    "    def __init__(self, normal_vector=None, constant_term=None):\n",
    "        self.dimension = 3\n",
    "\n",
    "        if not normal_vector:\n",
    "            all_zeros = ['0']*self.dimension\n",
    "            normal_vector = Vector(all_zeros)\n",
    "        self.normal_vector = normal_vector\n",
    "\n",
    "        if not constant_term:\n",
    "            constant_term = Decimal('0')\n",
    "        self.constant_term = Decimal(constant_term)\n",
    "\n",
    "        self.set_basepoint()\n",
    "\n",
    "\n",
    "    def set_basepoint(self):\n",
    "        try:\n",
    "            n = self.normal_vector\n",
    "            c = self.constant_term\n",
    "            basepoint_coords = ['0']*self.dimension\n",
    "\n",
    "            initial_index = Line.first_nonzero_index(n.coordinates)\n",
    "            initial_coefficient = n.coordinates[initial_index]\n",
    "\n",
    "            basepoint_coords[initial_index] = c/initial_coefficient\n",
    "            self.basepoint = Vector(basepoint_coords)\n",
    "\n",
    "        except Exception as e:\n",
    "            if str(e) == Line.NO_NONZERO_ELTS_FOUND_MSG:\n",
    "                self.basepoint = None\n",
    "            else:\n",
    "                raise e\n",
    "\n",
    "\n",
    "    def __str__(self):\n",
    "\n",
    "        num_decimal_places = 3\n",
    "\n",
    "        def write_coefficient(coefficient, is_initial_term=False):\n",
    "            coefficient = round(coefficient, num_decimal_places)\n",
    "            if coefficient % 1 == 0:\n",
    "                coefficient = int(coefficient)\n",
    "\n",
    "            output = ''\n",
    "\n",
    "            if coefficient < 0:\n",
    "                output += '-'\n",
    "            if coefficient > 0 and not is_initial_term:\n",
    "                output += '+'\n",
    "\n",
    "            if not is_initial_term:\n",
    "                output += ' '\n",
    "\n",
    "            if abs(coefficient) != 1:\n",
    "                output += '{}'.format(abs(coefficient))\n",
    "\n",
    "            return output\n",
    "\n",
    "        n = self.normal_vector\n",
    "\n",
    "        try:\n",
    "            initial_index = Line.first_nonzero_index(n.coordinates)\n",
    "            terms = [write_coefficient(n.coordinates[i], is_initial_term=(i==initial_index)) + 'x_{}'.format(i+1)\n",
    "                     for i in range(self.dimension) if round(n.coordinates[i], num_decimal_places) != 0]\n",
    "            output = ' '.join(terms)\n",
    "\n",
    "        except Exception as e:\n",
    "            if str(e) == self.NO_NONZERO_ELTS_FOUND_MSG:\n",
    "                output = '0'\n",
    "            else:\n",
    "                raise e\n",
    "\n",
    "        constant = round(self.constant_term, num_decimal_places)\n",
    "        if constant % 1 == 0:\n",
    "            constant = int(constant)\n",
    "        output += ' = {}'.format(constant)\n",
    "\n",
    "        return output\n",
    "\n",
    "\n",
    "    @staticmethod\n",
    "    def first_nonzero_index(iterable):\n",
    "        for k, item in enumerate(iterable):\n",
    "            if not MyDecimal(item).is_near_zero():\n",
    "                return k\n",
    "        raise Exception(Line.NO_NONZERO_ELTS_FOUND_MSG)\n",
    "\n",
    "\n",
    "class MyDecimal(Decimal):\n",
    "    def is_near_zero(self, eps=1e-10):\n",
    "        return abs(self) < eps\n",
    "    \n",
    "def intersection(x,y):\n",
    "    if is_parallel(x.normal_vector,y.normal_vector):\n",
    "        if ((x.basepoint == y.basepoint) & ((x.normal_vector.direction()==y.normal_vector.direction()) | (x.normal_vector.direction()==y.normal_vector.direction()*-1)))|\\\n",
    "            ((x.basepoint != y.basepoint) & (is_ortogonal(x.basepoint+y.basepoint*(-1),x.normal_vector))):\n",
    "            return 'equal'\n",
    "        else:\n",
    "            return 'parallel'\n",
    "    else:\n",
    "        x1 = (y.normal_vector.coordinates[1]*x.constant_term-x.normal_vector.coordinates[1]*y.constant_term)/\\\n",
    "            (x.normal_vector.coordinates[0]*y.normal_vector.coordinates[1]-\\\n",
    "             x.normal_vector.coordinates[1]*y.normal_vector.coordinates[0])\n",
    "        y1 = (-y.normal_vector.coordinates[0]*x.constant_term+x.normal_vector.coordinates[0]*y.constant_term)/\\\n",
    "            (x.normal_vector.coordinates[0]*y.normal_vector.coordinates[1]-\\\n",
    "             x.normal_vector.coordinates[1]*y.normal_vector.coordinates[0])\n",
    "        return (x1,y1)"
   ]
  },
  {
   "cell_type": "code",
   "execution_count": 135,
   "metadata": {
    "collapsed": false
   },
   "outputs": [],
   "source": [
    "x=Vector([1,2])"
   ]
  },
  {
   "cell_type": "code",
   "execution_count": 44,
   "metadata": {
    "collapsed": false
   },
   "outputs": [
    {
     "name": "stdout",
     "output_type": "stream",
     "text": [
      "Vector: (Decimal('1'), Decimal('2'))\n"
     ]
    }
   ],
   "source": [
    "print x"
   ]
  },
  {
   "cell_type": "code",
   "execution_count": 45,
   "metadata": {
    "collapsed": false
   },
   "outputs": [
    {
     "name": "stdout",
     "output_type": "stream",
     "text": [
      "Vector: (Decimal('7.089'), Decimal('-7.230'))\n"
     ]
    }
   ],
   "source": [
    "print Vector((8.218,-9.341))+Vector((-1.129,2.111))"
   ]
  },
  {
   "cell_type": "code",
   "execution_count": 46,
   "metadata": {
    "collapsed": false
   },
   "outputs": [
    {
     "name": "stdout",
     "output_type": "stream",
     "text": [
      "Vector: (Decimal('15.342'), Decimal('7.337'))\n"
     ]
    }
   ],
   "source": [
    "print Vector((7.119,8.215))-Vector((-8.223,0.878))"
   ]
  },
  {
   "cell_type": "code",
   "execution_count": 47,
   "metadata": {
    "collapsed": false
   },
   "outputs": [
    {
     "name": "stdout",
     "output_type": "stream",
     "text": [
      "Vector: (Decimal('12.38211'), Decimal('-7.49892'), Decimal('-2.35638'))\n"
     ]
    }
   ],
   "source": [
    "print Vector((1.671,-1.012,-0.318))*7.41"
   ]
  },
  {
   "cell_type": "code",
   "execution_count": 123,
   "metadata": {
    "collapsed": false
   },
   "outputs": [
    {
     "name": "stdout",
     "output_type": "stream",
     "text": [
      "7.44028292472806439850041394956\n"
     ]
    }
   ],
   "source": [
    "print Vector((-0.221,7.437)).magnitude()"
   ]
  },
  {
   "cell_type": "code",
   "execution_count": 136,
   "metadata": {
    "collapsed": false
   },
   "outputs": [
    {
     "name": "stdout",
     "output_type": "stream",
     "text": [
      "10.8841875672922873421533791227\n"
     ]
    }
   ],
   "source": [
    "print Vector((8.813,-1.331,-6.247)).magnitude()"
   ]
  },
  {
   "cell_type": "code",
   "execution_count": 71,
   "metadata": {
    "collapsed": false
   },
   "outputs": [
    {
     "name": "stdout",
     "output_type": "stream",
     "text": [
      "Vector: (Decimal('0.933935214086640319028128029228'), Decimal('-0.357442325262329998466956006169'))\n"
     ]
    }
   ],
   "source": [
    "print Vector((5.581,-2.136)).direction()"
   ]
  },
  {
   "cell_type": "code",
   "execution_count": 72,
   "metadata": {
    "collapsed": false
   },
   "outputs": [
    {
     "name": "stdout",
     "output_type": "stream",
     "text": [
      "Vector: (Decimal('0.340401295943301369107620613160'), Decimal('0.530043701298487302197637708267'), Decimal('-0.776647044952802823104260657481'))\n"
     ]
    }
   ],
   "source": [
    "print Vector((1.996,3.108,-4.554)).direction()"
   ]
  },
  {
   "cell_type": "code",
   "execution_count": 139,
   "metadata": {
    "collapsed": false
   },
   "outputs": [
    {
     "data": {
      "text/plain": [
       "3.0720263098372476"
      ]
     },
     "execution_count": 139,
     "metadata": {},
     "output_type": "execute_result"
    }
   ],
   "source": [
    "angle(Vector((3.183,-7.627)),Vector((-2.668,5.319)))"
   ]
  },
  {
   "cell_type": "code",
   "execution_count": 98,
   "metadata": {
    "collapsed": false
   },
   "outputs": [
    {
     "data": {
      "text/plain": [
       "60.27581120523091"
      ]
     },
     "execution_count": 98,
     "metadata": {},
     "output_type": "execute_result"
    }
   ],
   "source": [
    "angle(Vector((7.35,0.221,5.188)),Vector((2.751,8.259,3.985)))*180/math.pi"
   ]
  },
  {
   "cell_type": "code",
   "execution_count": 99,
   "metadata": {
    "collapsed": false
   },
   "outputs": [
    {
     "data": {
      "text/plain": [
       "Decimal('-41.382286')"
      ]
     },
     "execution_count": 99,
     "metadata": {},
     "output_type": "execute_result"
    }
   ],
   "source": [
    "dot(Vector((7.887,4.138)),Vector((-8.802,6.776)))"
   ]
  },
  {
   "cell_type": "code",
   "execution_count": 100,
   "metadata": {
    "collapsed": false
   },
   "outputs": [
    {
     "data": {
      "text/plain": [
       "Decimal('56.397178')"
      ]
     },
     "execution_count": 100,
     "metadata": {},
     "output_type": "execute_result"
    }
   ],
   "source": [
    "dot(Vector((-5.955,-4.904,-1.874)),Vector((-4.496,-8.755,7.103)))"
   ]
  },
  {
   "cell_type": "code",
   "execution_count": 124,
   "metadata": {
    "collapsed": false
   },
   "outputs": [
    {
     "data": {
      "text/plain": [
       "True"
      ]
     },
     "execution_count": 124,
     "metadata": {},
     "output_type": "execute_result"
    }
   ],
   "source": [
    "is_parallel(Vector((-7.579,-7.88)),Vector((22.737,23.64)))"
   ]
  },
  {
   "cell_type": "code",
   "execution_count": 125,
   "metadata": {
    "collapsed": false
   },
   "outputs": [
    {
     "data": {
      "text/plain": [
       "False"
      ]
     },
     "execution_count": 125,
     "metadata": {},
     "output_type": "execute_result"
    }
   ],
   "source": [
    "is_ortogonal(Vector((-7.579,-7.88)),Vector((22.737,23.64)))"
   ]
  },
  {
   "cell_type": "code",
   "execution_count": 126,
   "metadata": {
    "collapsed": false
   },
   "outputs": [
    {
     "data": {
      "text/plain": [
       "False"
      ]
     },
     "execution_count": 126,
     "metadata": {},
     "output_type": "execute_result"
    }
   ],
   "source": [
    "is_parallel(Vector((-2.029,9.97,4.172)),Vector((-9.231,-6.639,-7.245)))"
   ]
  },
  {
   "cell_type": "code",
   "execution_count": 127,
   "metadata": {
    "collapsed": false
   },
   "outputs": [
    {
     "data": {
      "text/plain": [
       "False"
      ]
     },
     "execution_count": 127,
     "metadata": {},
     "output_type": "execute_result"
    }
   ],
   "source": [
    "is_ortogonal(Vector((-2.029,9.97,4.172)),Vector((-9.231,-6.639,-7.245)))"
   ]
  },
  {
   "cell_type": "code",
   "execution_count": 128,
   "metadata": {
    "collapsed": false,
    "scrolled": true
   },
   "outputs": [
    {
     "data": {
      "text/plain": [
       "False"
      ]
     },
     "execution_count": 128,
     "metadata": {},
     "output_type": "execute_result"
    }
   ],
   "source": [
    "is_parallel(Vector((-2.328,-7.284,-1.214)),Vector((-1.821,1.072,-2.94)))"
   ]
  },
  {
   "cell_type": "code",
   "execution_count": 144,
   "metadata": {
    "collapsed": false
   },
   "outputs": [
    {
     "data": {
      "text/plain": [
       "True"
      ]
     },
     "execution_count": 144,
     "metadata": {},
     "output_type": "execute_result"
    }
   ],
   "source": [
    "is_ortogonal(Vector((-2.328,-7.284,-1.214)),Vector((-1.821,1.072,-2.94)))"
   ]
  },
  {
   "cell_type": "code",
   "execution_count": 107,
   "metadata": {
    "collapsed": true
   },
   "outputs": [],
   "source": [
    "x=Vector((3.039,1.879)).projection(Vector((0.825,2.036)))"
   ]
  },
  {
   "cell_type": "code",
   "execution_count": 108,
   "metadata": {
    "collapsed": false
   },
   "outputs": [
    {
     "name": "stdout",
     "output_type": "stream",
     "text": [
      "Vector: (Decimal('1.08260696248446669557997323205'), Decimal('2.67174275832530205115251575813'))\n"
     ]
    }
   ],
   "source": [
    "print x[0]"
   ]
  },
  {
   "cell_type": "code",
   "execution_count": 109,
   "metadata": {
    "collapsed": true
   },
   "outputs": [],
   "source": [
    "x=Vector((-9.88,-3.264,-8.159)).projection(Vector((-2.155,-9.353,-9.473)))"
   ]
  },
  {
   "cell_type": "code",
   "execution_count": 110,
   "metadata": {
    "collapsed": false
   },
   "outputs": [
    {
     "name": "stdout",
     "output_type": "stream",
     "text": [
      "Vector: (Decimal('-8.35008104319576223434679936276'), Decimal('3.37606125428771963905075896060'), Decimal('-1.43374604278118591460196304568'))\n"
     ]
    }
   ],
   "source": [
    "print x[1]"
   ]
  },
  {
   "cell_type": "code",
   "execution_count": 111,
   "metadata": {
    "collapsed": true
   },
   "outputs": [],
   "source": [
    "x=Vector((3.009,-6.172,3.692,-2.51)).projection(Vector((6.404,-9.144,2.759,8.718)))"
   ]
  },
  {
   "cell_type": "code",
   "execution_count": 112,
   "metadata": {
    "collapsed": false
   },
   "outputs": [
    {
     "name": "stdout",
     "output_type": "stream",
     "text": [
      "Vector: (Decimal('1.96851616721408987630529774899'), Decimal('-2.81076074843935631307552195764'), Decimal('0.848084963357850401112791456819'), Decimal('2.67981323325615795465796155148'))\n"
     ]
    }
   ],
   "source": [
    "print x[0]"
   ]
  },
  {
   "cell_type": "code",
   "execution_count": 113,
   "metadata": {
    "collapsed": false
   },
   "outputs": [
    {
     "name": "stdout",
     "output_type": "stream",
     "text": [
      "Vector: (Decimal('1.04048383278591012369470225101'), Decimal('-3.36123925156064368692447804236'), Decimal('2.84391503664214959888720854318'), Decimal('-5.18981323325615795465796155148'))\n"
     ]
    }
   ],
   "source": [
    "print x[1]"
   ]
  },
  {
   "cell_type": "code",
   "execution_count": 114,
   "metadata": {
    "collapsed": false
   },
   "outputs": [
    {
     "name": "stdout",
     "output_type": "stream",
     "text": [
      "Vector: (Decimal('3.00900000000000000000000000000'), Decimal('-6.17200000000000000000000000000'), Decimal('3.69200000000000000000000000000'), Decimal('-2.51000000000000000000000000000'))\n"
     ]
    }
   ],
   "source": [
    "print x[0]+x[1]"
   ]
  },
  {
   "cell_type": "code",
   "execution_count": 115,
   "metadata": {
    "collapsed": false
   },
   "outputs": [
    {
     "name": "stdout",
     "output_type": "stream",
     "text": [
      "Vector: (Decimal('-11.204571'), Decimal('-97.609444'), Decimal('-105.685162'))\n"
     ]
    }
   ],
   "source": [
    "print cross_product(Vector([8.462,7.893,-8.187]),Vector([6.984,-5.975,4.778]))"
   ]
  },
  {
   "cell_type": "code",
   "execution_count": 116,
   "metadata": {
    "collapsed": false
   },
   "outputs": [
    {
     "data": {
      "text/plain": [
       "Decimal('142.122221401846340546984269930')"
      ]
     },
     "execution_count": 116,
     "metadata": {},
     "output_type": "execute_result"
    }
   ],
   "source": [
    "cross_product(Vector([-8.987,-9.838,5.031]),Vector([-4.268,-1.861,-8.866])).magnitude()"
   ]
  },
  {
   "cell_type": "code",
   "execution_count": 118,
   "metadata": {
    "collapsed": false
   },
   "outputs": [
    {
     "data": {
      "text/plain": [
       "Decimal('42.5649373994189318366020004976')"
      ]
     },
     "execution_count": 118,
     "metadata": {},
     "output_type": "execute_result"
    }
   ],
   "source": [
    "cross_product(Vector([1.5,9.547,3.691]),Vector([-6.007,0.124,5.772])).magnitude()*Decimal('.5')"
   ]
  },
  {
   "cell_type": "code",
   "execution_count": 2,
   "metadata": {
    "collapsed": false
   },
   "outputs": [
    {
     "data": {
      "text/plain": [
       "'equal'"
      ]
     },
     "execution_count": 2,
     "metadata": {},
     "output_type": "execute_result"
    }
   ],
   "source": [
    "x = Line(Vector([Decimal(4.046),Decimal(2.836)]),Decimal(1.21))\n",
    "y = Line(Vector([Decimal(10.115),Decimal(7.09)]),Decimal(3.025))\n",
    "intersection(x,y)"
   ]
  },
  {
   "cell_type": "code",
   "execution_count": 3,
   "metadata": {
    "collapsed": false
   },
   "outputs": [
    {
     "data": {
      "text/plain": [
       "(Decimal('1.17277663546464155833736023125'),\n",
       " Decimal('0.0726955116633319428771277112347'))"
      ]
     },
     "execution_count": 3,
     "metadata": {},
     "output_type": "execute_result"
    }
   ],
   "source": [
    "x = Line(Vector([Decimal(7.204),Decimal(3.182)]),Decimal(8.68))\n",
    "y = Line(Vector([Decimal(8.172),Decimal(4.114)]),Decimal(9.883))\n",
    "intersection(x,y)"
   ]
  },
  {
   "cell_type": "code",
   "execution_count": 4,
   "metadata": {
    "collapsed": false
   },
   "outputs": [
    {
     "data": {
      "text/plain": [
       "'parallel'"
      ]
     },
     "execution_count": 4,
     "metadata": {},
     "output_type": "execute_result"
    }
   ],
   "source": [
    "x = Line(Vector([Decimal(1.182),Decimal(5.562)]),Decimal(6.744))\n",
    "y = Line(Vector([Decimal(1.773),Decimal(8.343)]),Decimal(9.525))\n",
    "intersection(x,y)"
   ]
  },
  {
   "cell_type": "code",
   "execution_count": 23,
   "metadata": {
    "collapsed": false
   },
   "outputs": [
    {
     "data": {
      "text/plain": [
       "48.499452000000005"
      ]
     },
     "execution_count": 23,
     "metadata": {},
     "output_type": "execute_result"
    }
   ],
   "source": [
    "float(dot(Vector([Decimal(1.182),Decimal(5.562)]),Vector([Decimal(1.773),Decimal(8.343)])))"
   ]
  },
  {
   "cell_type": "code",
   "execution_count": 22,
   "metadata": {
    "collapsed": false
   },
   "outputs": [
    {
     "data": {
      "text/plain": [
       "48.499452"
      ]
     },
     "execution_count": 22,
     "metadata": {},
     "output_type": "execute_result"
    }
   ],
   "source": [
    "Vector([Decimal(1.182),Decimal(5.562)]).magnitude()*Vector([Decimal(1.773),Decimal(8.343)]).magnitude()"
   ]
  },
  {
   "cell_type": "code",
   "execution_count": 21,
   "metadata": {
    "collapsed": false
   },
   "outputs": [
    {
     "data": {
      "text/plain": [
       "8.529312867986494"
      ]
     },
     "execution_count": 21,
     "metadata": {},
     "output_type": "execute_result"
    }
   ],
   "source": [
    "Vector([Decimal(1.773),Decimal(8.343)]).magnitude()"
   ]
  },
  {
   "cell_type": "code",
   "execution_count": 26,
   "metadata": {
    "collapsed": false
   },
   "outputs": [
    {
     "data": {
      "text/plain": [
       "'equal'"
      ]
     },
     "execution_count": 26,
     "metadata": {},
     "output_type": "execute_result"
    }
   ],
   "source": [
    "x = Plane(Vector([-0.412,3.806,0.728]),-3.46)\n",
    "y = Plane(Vector([1.03,-9.515,-1.82]),8.65)\n",
    "intersection(x,y)"
   ]
  },
  {
   "cell_type": "code",
   "execution_count": 27,
   "metadata": {
    "collapsed": false
   },
   "outputs": [
    {
     "data": {
      "text/plain": [
       "(Decimal('-0.831155934335784371114855862924'),\n",
       " Decimal('1.22470118389123238742936338242'))"
      ]
     },
     "execution_count": 27,
     "metadata": {},
     "output_type": "execute_result"
    }
   ],
   "source": [
    "x = Plane(Vector([2.611,5.528,0.283]),4.6)\n",
    "y = Plane(Vector([7.715,8.306,5.342]),3.76)\n",
    "intersection(x,y)"
   ]
  },
  {
   "cell_type": "code",
   "execution_count": 28,
   "metadata": {
    "collapsed": false
   },
   "outputs": [
    {
     "data": {
      "text/plain": [
       "'parallel'"
      ]
     },
     "execution_count": 28,
     "metadata": {},
     "output_type": "execute_result"
    }
   ],
   "source": [
    "x = Plane(Vector([-7.926,8.625,-7.212]),-7.952)\n",
    "y = Plane(Vector([-2.642,2.875,-2.404]),-2.443)\n",
    "intersection(x,y)"
   ]
  },
  {
   "cell_type": "code",
   "execution_count": 17,
   "metadata": {
    "collapsed": false
   },
   "outputs": [
    {
     "data": {
      "text/plain": [
       "True"
      ]
     },
     "execution_count": 17,
     "metadata": {},
     "output_type": "execute_result"
    }
   ],
   "source": [
    "is_parallel(x.normal_vector,y.normal_vector)"
   ]
  },
  {
   "cell_type": "code",
   "execution_count": 19,
   "metadata": {
    "collapsed": false
   },
   "outputs": [
    {
     "name": "stdout",
     "output_type": "stream",
     "text": [
      "Vector: (Decimal('8.39805825242718437978850294174'), Decimal('0'), Decimal('0'))\n"
     ]
    }
   ],
   "source": [
    "print x.basepoint"
   ]
  },
  {
   "cell_type": "code",
   "execution_count": 20,
   "metadata": {
    "collapsed": false
   },
   "outputs": [
    {
     "name": "stdout",
     "output_type": "stream",
     "text": [
      "Vector: (Decimal('8.39805825242718481094307561170'), Decimal('0'), Decimal('0'))\n"
     ]
    }
   ],
   "source": [
    "print y.basepoint"
   ]
  },
  {
   "cell_type": "code",
   "execution_count": 21,
   "metadata": {
    "collapsed": false
   },
   "outputs": [
    {
     "data": {
      "text/plain": [
       "True"
      ]
     },
     "execution_count": 21,
     "metadata": {},
     "output_type": "execute_result"
    }
   ],
   "source": [
    "x.basepoint == y.basepoint"
   ]
  },
  {
   "cell_type": "code",
   "execution_count": 24,
   "metadata": {
    "collapsed": false
   },
   "outputs": [
    {
     "data": {
      "text/plain": [
       "True"
      ]
     },
     "execution_count": 24,
     "metadata": {},
     "output_type": "execute_result"
    }
   ],
   "source": [
    "x.normal_vector.direction()*-1 == y.normal_vector.direction()"
   ]
  },
  {
   "cell_type": "code",
   "execution_count": null,
   "metadata": {
    "collapsed": true
   },
   "outputs": [],
   "source": []
  }
 ],
 "metadata": {
  "kernelspec": {
   "display_name": "Python 2",
   "language": "python",
   "name": "python2"
  },
  "language_info": {
   "codemirror_mode": {
    "name": "ipython",
    "version": 2
   },
   "file_extension": ".py",
   "mimetype": "text/x-python",
   "name": "python",
   "nbconvert_exporter": "python",
   "pygments_lexer": "ipython2",
   "version": "2.7.11"
  }
 },
 "nbformat": 4,
 "nbformat_minor": 0
}
